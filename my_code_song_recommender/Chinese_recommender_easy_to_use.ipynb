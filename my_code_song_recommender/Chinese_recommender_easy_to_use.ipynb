{
 "cells": [
  {
   "cell_type": "code",
   "execution_count": 2,
   "metadata": {},
   "outputs": [],
   "source": [
    "from bs4 import BeautifulSoup\n",
    "import requests\n",
    "import pandas as pd\n",
    "import numpy as np\n",
    "import random\n",
    "from time import sleep\n",
    "\n",
    "import spotipy\n",
    "import sys\n",
    "from spotipy.oauth2 import SpotifyClientCredentials"
   ]
  },
  {
   "cell_type": "code",
   "execution_count": 3,
   "metadata": {},
   "outputs": [
    {
     "name": "stdout",
     "output_type": "stream",
     "text": [
      "Name of the song you like. If its in the top 100 I'll recommend you a new one?: clock\n",
      "Song not in top 100\n",
      "Who is the artist: coldplay\n"
     ]
    },
    {
     "data": {
      "text/plain": [
       "'在水中央'"
      ]
     },
     "execution_count": 3,
     "metadata": {},
     "output_type": "execute_result"
    }
   ],
   "source": [
    "    url = \"https://www.billboard.com/charts/hot-100\"\n",
    "    response = requests.get(url)\n",
    "    soup = BeautifulSoup(response.content,\"html.parser\")\n",
    "\n",
    "    song_name = []\n",
    "\n",
    "    for song in soup.select(\"span.chart-element__information__song.text--truncate.color--primary\"):\n",
    "        song_name.append(song.get_text())\n",
    "\n",
    "    artist_name = []\n",
    "\n",
    "    for artist in soup.select(\"span.chart-element__information__artist.text--truncate.color--secondary\"):\n",
    "        artist_name.append(artist.get_text())\n",
    "\n",
    "    billboard = pd.DataFrame({\n",
    "        \"song_name\":song_name,\n",
    "        \"artist\":artist_name,})\n",
    "\n",
    "    billboard[\"song_name\"] = billboard[\"song_name\"].apply(lambda x: x.lower())\n",
    "    billboard[\"artist\"] = billboard[\"artist\"].apply(lambda x: x.lower())\n",
    "    \n",
    "# Asking for a song\n",
    "\n",
    "    spotify = spotipy.Spotify(auth_manager=SpotifyClientCredentials(client_id=\"ff84e02be03141a2b8bf064b47dce0ba\",client_secret=\"2d8b7ea03f734d87a4d21689e8a4ce94\"))\n",
    "\n",
    "    song_not_top_100 = []\n",
    "    artist_not_top_100 = []\n",
    "\n",
    "    hot_song = random.choice(billboard[\"song_name\"])\n",
    "\n",
    "    user_input = input(\"Name of the song you like. If its in the top 100 I'll recommend you a new one?: \").lower()\n",
    "\n",
    "    if user_input in list(billboard[\"song_name\"]):\n",
    "        sleep(1)\n",
    "        print(\"We recommend you hear: \", hot_song)\n",
    "\n",
    "    elif user_input not in list(billboard[\"song_name\"]): \n",
    "        song_not_top_100.append(user_input)\n",
    "        sleep(1)\n",
    "        print(\"Song not in top 100\")   \n",
    "        artist_input = input(\"Who is the artist: \")\n",
    "        artist_not_top_100.append(artist_input)\n",
    "        search_name = \" \".join(song_not_top_100 + artist_not_top_100)\n",
    "\n",
    "    results = spotify.search(q=(search_name), limit = 1)\n",
    "    uri_song_chosen = results[\"tracks\"][\"items\"][0][\"uri\"]    \n",
    "\n",
    "    # Playlist & Clustering\n",
    "\n",
    "\n",
    "    table_of_tables = pd.read_csv(\"tablesaved\").drop(columns=\"Unnamed: 0\")  #function used for table in the end\n",
    "\n",
    "    from sklearn import datasets\n",
    "    from sklearn.preprocessing import StandardScaler\n",
    "    from sklearn.cluster import KMeans\n",
    "\n",
    "    cluster_table = table_of_tables[[\"danceability\",\"energy\",\"key\",\"loudness\",\"mode\",\"speechiness\",\"acousticness\",\"instrumentalness\",\"liveness\",\"valence\",\"duration_ms\"]]\n",
    "    scaler = StandardScaler()\n",
    "    table_of_tables_scaled = scaler.fit_transform(cluster_table)\n",
    "\n",
    "    from sklearn.cluster import KMeans\n",
    "    kmeans = KMeans(n_clusters=7,random_state=1234)\n",
    "    kmeans.fit(table_of_tables_scaled)\n",
    "\n",
    "    clusters = kmeans.predict(table_of_tables_scaled)\n",
    "    table_of_tables[\"clusters\"] = clusters\n",
    "\n",
    "    # Music Selector\n",
    "\n",
    "    audio_features = spotify.audio_features(uri_song_chosen)\n",
    "    user_audio_feature_dataframe = pd.DataFrame(audio_features)\n",
    "\n",
    "    from sklearn import datasets\n",
    "    from sklearn.preprocessing import StandardScaler\n",
    "\n",
    "    user_cluster_table = user_audio_feature_dataframe[[\"danceability\",\"energy\",\"key\",\"loudness\",\"mode\",\"speechiness\",\"acousticness\",\"instrumentalness\",\"liveness\",\"valence\",\"duration_ms\"]]\n",
    "\n",
    "    user_song_scaled = scaler.transform(user_cluster_table)\n",
    "    user_input_normalized = pd.DataFrame(user_song_scaled)\n",
    "    user_clusters = kmeans.predict(user_input_normalized)\n",
    "\n",
    "    value_of_cluster_of_user = user_clusters[0]\n",
    "    playlist_cluster_of_user = table_of_tables[table_of_tables[\"clusters\"] == value_of_cluster_of_user]\n",
    "\n",
    "    list_of_uri_of_cluster = playlist_cluster_of_user[\"uri\"]\n",
    "    a = list(list_of_uri_of_cluster)\n",
    "\n",
    "    random_song = random.choice(a)\n",
    "\n",
    "    random_song_track_info = spotify.track(random_song)\n",
    "\n",
    "    random_song_track_info[\"name\"]"
   ]
  },
  {
   "cell_type": "code",
   "execution_count": null,
   "metadata": {
    "scrolled": true
   },
   "outputs": [],
   "source": []
  },
  {
   "cell_type": "markdown",
   "metadata": {},
   "source": [
    "---"
   ]
  },
  {
   "cell_type": "markdown",
   "metadata": {},
   "source": [
    "---"
   ]
  },
  {
   "cell_type": "markdown",
   "metadata": {},
   "source": [
    "---"
   ]
  },
  {
   "cell_type": "markdown",
   "metadata": {},
   "source": [
    "---"
   ]
  },
  {
   "cell_type": "markdown",
   "metadata": {},
   "source": [
    "---"
   ]
  },
  {
   "cell_type": "markdown",
   "metadata": {},
   "source": [
    "---"
   ]
  },
  {
   "cell_type": "markdown",
   "metadata": {},
   "source": [
    "---"
   ]
  },
  {
   "cell_type": "markdown",
   "metadata": {},
   "source": [
    "---"
   ]
  },
  {
   "cell_type": "markdown",
   "metadata": {},
   "source": [
    "---"
   ]
  },
  {
   "cell_type": "markdown",
   "metadata": {},
   "source": [
    "---"
   ]
  },
  {
   "cell_type": "markdown",
   "metadata": {},
   "source": [
    "# Other formulas"
   ]
  },
  {
   "cell_type": "code",
   "execution_count": null,
   "metadata": {},
   "outputs": [],
   "source": [
    "kmeans.inertia_\n",
    "\n",
    "K = range(2, 20)\n",
    "\n",
    "# For each model, store the inertia in a list\n",
    "inertia = []\n",
    "\n",
    "for k in K:\n",
    "    kmeans = KMeans(n_clusters=k,\n",
    "        random_state=1234)\n",
    "    kmeans.fit(table_of_tables_scaled)\n",
    "    inertia.append(kmeans.inertia_)\n",
    "\n",
    "import matplotlib.pyplot as plt\n",
    "import numpy as np\n",
    "%matplotlib inline\n",
    "\n",
    "plt.figure(figsize=(16,8))\n",
    "plt.plot(K, inertia, 'bx-')\n",
    "plt.xlabel('k')\n",
    "plt.ylabel('inertia')\n",
    "plt.xticks(np.arange(min(K), max(K)+1, 1.0))\n",
    "plt.title('Elbow Method showing the optimal k')\n",
    "\n",
    "\n",
    "from sklearn.metrics import silhouette_score\n",
    "\n",
    "K = range(2, 20)\n",
    "silhouette = []\n",
    "\n",
    "for i in K:\n",
    "    kmeans = KMeans(n_clusters=i, random_state=1234)\n",
    "    prediction = kmeans.fit_predict(table_of_tables_scaled)    \n",
    "    score = silhouette_score(table_of_tables_scaled, prediction)\n",
    "    silhouette.append(score)\n",
    "\n",
    "plt.figure(figsize=(16,8))\n",
    "plt.plot(K, silhouette, 'bx-')\n",
    "plt.xlabel('k')\n",
    "plt.ylabel('silhouette score')\n",
    "plt.xticks(np.arange(min(K), max(K)+1, 1.0))\n",
    "plt.title('Elbow Method showing the optimal k')"
   ]
  },
  {
   "cell_type": "code",
   "execution_count": null,
   "metadata": {
    "scrolled": true
   },
   "outputs": [],
   "source": [
    "columns = ['danceability', 'energy', 'key', 'loudness', 'mode', 'speechiness',\n",
    "       'acousticness', 'instrumentalness', 'liveness', 'valence', 'tempo',\n",
    "       'type', 'id', 'uri', 'track_href', 'analysis_url', 'duration_ms',\n",
    "       'time_signature']\n",
    "\n",
    "TABLE = pd.DataFrame(columns = columns)\n",
    "\n",
    "\n",
    "\n",
    "chinese_top_hits_full_playlist = []\n",
    "playlist_link = \"https://open.spotify.com/playlist/3CgsCde2Ol4MYOHqVdU56S\"\n",
    "\n",
    "for i in range(0,1000,100):\n",
    "    chinese_top_hits_full_playlist.append(spotify.user_playlist_tracks(user=\"spotify\",playlist_id=playlist_link,offset=i))\n",
    "\n",
    "uri_full_playlist = []\n",
    "\n",
    "for songs in chinese_top_hits_full_playlist:\n",
    "    for elem in songs[\"items\"]:\n",
    "        uri_full_playlist.append(elem[\"track\"][\"uri\"])\n",
    "\n",
    "clean_uris = []\n",
    "\n",
    "for uri in uri_full_playlist:\n",
    "    if len(uri) == 36: \n",
    "        clean_uris.append(uri)\n",
    "\n",
    "audio_features_playlist = []\n",
    "\n",
    "for uri in clean_uris:\n",
    "    audio_features_playlist.append(spotify.audio_features(uri))\n",
    "    \n",
    "\n",
    "full_table_playlist = pd.concat([pd.DataFrame(d) for d in audio_features_playlist])\n",
    "\n",
    "TABLE = table_of_tables.append(full_table_playlist)\n",
    "\n",
    "TABLE.drop_duplicates()"
   ]
  }
 ],
 "metadata": {
  "kernelspec": {
   "display_name": "Python 3",
   "language": "python",
   "name": "python3"
  },
  "language_info": {
   "codemirror_mode": {
    "name": "ipython",
    "version": 3
   },
   "file_extension": ".py",
   "mimetype": "text/x-python",
   "name": "python",
   "nbconvert_exporter": "python",
   "pygments_lexer": "ipython3",
   "version": "3.8.3"
  }
 },
 "nbformat": 4,
 "nbformat_minor": 4
}
